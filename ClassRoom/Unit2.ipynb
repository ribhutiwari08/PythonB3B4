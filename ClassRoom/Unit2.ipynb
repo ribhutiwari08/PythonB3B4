{
 "cells": [
  {
   "cell_type": "code",
   "execution_count": 2,
   "id": "2130c285-7da7-48e6-8a76-b319e670f6c0",
   "metadata": {},
   "outputs": [
    {
     "name": "stdout",
     "output_type": "stream",
     "text": [
      "30\n",
      "20\n",
      "10\n"
     ]
    }
   ],
   "source": [
    "# main file \n",
    "\n",
    "x = 10 #global variable \n",
    "def outer_function():\n",
    "    x = 20 #enclosing variable \n",
    "    def inner_function():\n",
    "        x = 30   #Local variable \n",
    "        print(x)  #Output : 30\n",
    "    inner_function()\n",
    "    print(x)  # output : 20\n",
    "\n",
    "outer_function()\n",
    "print(x)  #Output : 1"
   ]
  },
  {
   "cell_type": "code",
   "execution_count": 3,
   "id": "9c0533a9-f00e-497e-8281-3b5183165b13",
   "metadata": {},
   "outputs": [],
   "source": [
    "counter = 0\n",
    "\n",
    "def increment():\n",
    "    global counter\n",
    "    counter+=1\n",
    "    \n"
   ]
  },
  {
   "cell_type": "code",
   "execution_count": 4,
   "id": "2148ea8b-40ab-41a1-b6c6-a44b56ed653d",
   "metadata": {},
   "outputs": [
    {
     "name": "stdout",
     "output_type": "stream",
     "text": [
      "1\n"
     ]
    }
   ],
   "source": [
    "increment()\n",
    "print(counter)"
   ]
  },
  {
   "cell_type": "code",
   "execution_count": 5,
   "id": "0f81a95c-0b19-4eb0-ad01-dab4c23d71fc",
   "metadata": {},
   "outputs": [],
   "source": [
    "def modify_immutable(x):\n",
    "    x+= 1\n",
    "    print(f\"Inside function : {x}\") "
   ]
  },
  {
   "cell_type": "code",
   "execution_count": 6,
   "id": "53df4f19-6690-4719-a22a-6ffad6769e01",
   "metadata": {},
   "outputs": [
    {
     "name": "stdout",
     "output_type": "stream",
     "text": [
      "Inside function : 6\n",
      "Outside function : 5\n"
     ]
    }
   ],
   "source": [
    "a = 5\n",
    "modify_immutable(a)\n",
    "print(f\"Outside function : {a}\")"
   ]
  },
  {
   "cell_type": "code",
   "execution_count": 7,
   "id": "01137d21-1193-478f-bab3-0dd3a5e963bf",
   "metadata": {},
   "outputs": [],
   "source": [
    "def modify_mutable(lst):\n",
    "    lst.append(4)\n",
    "    print(f\"Inside function : {lst}\")"
   ]
  },
  {
   "cell_type": "code",
   "execution_count": 8,
   "id": "319a9bee-d7dd-4a03-83e2-af2310db12e8",
   "metadata": {},
   "outputs": [
    {
     "name": "stdout",
     "output_type": "stream",
     "text": [
      "Inside function : [1, 2, 3, 4]\n",
      "Outside function : [1, 2, 3, 4]\n"
     ]
    }
   ],
   "source": [
    "my_list = [1,2,3]\n",
    "modify_mutable(my_list)\n",
    "print(f\"Outside function : {my_list}\")"
   ]
  },
  {
   "cell_type": "code",
   "execution_count": 9,
   "id": "9585cb9e-a65d-470f-950c-39fabeff6346",
   "metadata": {},
   "outputs": [
    {
     "name": "stdout",
     "output_type": "stream",
     "text": [
      "25\n"
     ]
    }
   ],
   "source": [
    "def square(x):\n",
    "    return x * x \n",
    "\n",
    "f = square\n",
    "print(f(5))\n",
    "\n",
    "def apply_function(func , value):\n",
    "    return func(value)"
   ]
  },
  {
   "cell_type": "code",
   "execution_count": 11,
   "id": "c89c2a9d-fc3b-4b9d-a4b3-180fa5814451",
   "metadata": {},
   "outputs": [
    {
     "name": "stdout",
     "output_type": "stream",
     "text": [
      "16\n"
     ]
    }
   ],
   "source": [
    "result = apply_function(square , 4)\n",
    "print(result)"
   ]
  },
  {
   "cell_type": "code",
   "execution_count": 12,
   "id": "940bc619-3ac3-4504-99f0-3d1d1e97a2f1",
   "metadata": {},
   "outputs": [],
   "source": [
    "def double(x):\n",
    "    return x*2\n",
    "def triple(x):\n",
    "    return x*3\n",
    "def apply_operation(func , number):\n",
    "    return func(number)\n",
    "\n",
    "    "
   ]
  },
  {
   "cell_type": "code",
   "execution_count": 13,
   "id": "9b0c54da-62ff-4cd4-99bd-4d9c087645ed",
   "metadata": {},
   "outputs": [
    {
     "name": "stdout",
     "output_type": "stream",
     "text": [
      "10\n",
      "12\n"
     ]
    }
   ],
   "source": [
    "print(apply_operation(double , 5))\n",
    "print(apply_operation(triple , 4))"
   ]
  },
  {
   "cell_type": "code",
   "execution_count": 14,
   "id": "e37bc070-d617-4ec7-b805-99604c39945f",
   "metadata": {},
   "outputs": [
    {
     "name": "stdout",
     "output_type": "stream",
     "text": [
      "8\n"
     ]
    }
   ],
   "source": [
    "#Lamda Function\n",
    "\n",
    "add= lambda a, b : a+ b\n",
    "print(add(3,5))"
   ]
  },
  {
   "cell_type": "markdown",
   "id": "a3738012-13b9-46c4-8aea-ee1c5263e547",
   "metadata": {},
   "source": [
    "**Write a function to multiply 3 number and return its result**"
   ]
  },
  {
   "cell_type": "code",
   "execution_count": 17,
   "id": "c6242cb7-aaee-42cd-b429-db76e5de94b4",
   "metadata": {},
   "outputs": [
    {
     "name": "stdout",
     "output_type": "stream",
     "text": [
      "24\n",
      "42\n"
     ]
    }
   ],
   "source": [
    "def jod(a,b,c): #define a function mod\n",
    "    return a*b*c\n",
    "\n",
    "mod = lambda a,b,c : a*b*c   # define lambda \n",
    "print(mod(2,3,4))\n",
    "\n",
    "print(jod(2,3,7))  #calling function jod and print"
   ]
  },
  {
   "cell_type": "markdown",
   "id": "6c0a4a5a-d7b9-46d2-9bc3-a21ec1990867",
   "metadata": {},
   "source": [
    "**Map Function**"
   ]
  },
  {
   "cell_type": "code",
   "execution_count": 18,
   "id": "366f2336-df44-4c86-8573-82c945a8c9e6",
   "metadata": {},
   "outputs": [
    {
     "name": "stdout",
     "output_type": "stream",
     "text": [
      "[1, 4, 9, 16, 25]\n"
     ]
    }
   ],
   "source": [
    "numbers = [1,2,3,4,5]\n",
    "squared = map(lambda x: x*x , numbers)\n",
    "print(list(squared))"
   ]
  },
  {
   "cell_type": "markdown",
   "id": "d3a00cbf-d09f-4417-9bc0-47e5a6feadc6",
   "metadata": {},
   "source": [
    "**Map Function With Filter**"
   ]
  },
  {
   "cell_type": "code",
   "execution_count": 19,
   "id": "f6085f85-6729-4d00-af57-ab5dfa4b3181",
   "metadata": {},
   "outputs": [
    {
     "name": "stdout",
     "output_type": "stream",
     "text": [
      "[2, 4]\n"
     ]
    }
   ],
   "source": [
    "even_numbers = filter(lambda x: x %2==0 , numbers)\n",
    "print(list(even_numbers))"
   ]
  },
  {
   "cell_type": "markdown",
   "id": "d5787808-39da-4898-b687-b7ee38577e6e",
   "metadata": {},
   "source": [
    "***List Comprehension***"
   ]
  },
  {
   "cell_type": "code",
   "execution_count": 1,
   "id": "2351eb7e-6c13-4e5e-8635-adf52e42dcc6",
   "metadata": {},
   "outputs": [],
   "source": [
    "squares = []\n",
    "for i in range (10):\n",
    "    if i %2 == 0:\n",
    "        squares.append(i ** 2)"
   ]
  },
  {
   "cell_type": "code",
   "execution_count": 3,
   "id": "852e21a9-56d8-4db2-bdb4-fed3cef69978",
   "metadata": {},
   "outputs": [
    {
     "name": "stdout",
     "output_type": "stream",
     "text": [
      "[0, 4, 16, 36, 64]\n"
     ]
    }
   ],
   "source": [
    "print(squares)"
   ]
  },
  {
   "cell_type": "code",
   "execution_count": 4,
   "id": "b3e932bf-9a90-4577-977a-1ad013797826",
   "metadata": {},
   "outputs": [],
   "source": [
    "squares = [i ** 2 for i in range(10) if i% 2 == 0]"
   ]
  },
  {
   "cell_type": "code",
   "execution_count": 5,
   "id": "226695e1-fd39-4600-9716-61f8a03a17e1",
   "metadata": {},
   "outputs": [
    {
     "name": "stdout",
     "output_type": "stream",
     "text": [
      "[0, 4, 16, 36, 64]\n"
     ]
    }
   ],
   "source": [
    "print(squares)"
   ]
  },
  {
   "cell_type": "code",
   "execution_count": null,
   "id": "057aa390-c825-4a88-b44c-8c7e639fcfc4",
   "metadata": {},
   "outputs": [],
   "source": []
  }
 ],
 "metadata": {
  "kernelspec": {
   "display_name": "Python 3 (ipykernel)",
   "language": "python",
   "name": "python3"
  },
  "language_info": {
   "codemirror_mode": {
    "name": "ipython",
    "version": 3
   },
   "file_extension": ".py",
   "mimetype": "text/x-python",
   "name": "python",
   "nbconvert_exporter": "python",
   "pygments_lexer": "ipython3",
   "version": "3.12.1"
  }
 },
 "nbformat": 4,
 "nbformat_minor": 5
}
