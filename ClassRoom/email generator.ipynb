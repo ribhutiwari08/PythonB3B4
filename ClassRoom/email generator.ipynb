{
 "cells": [
  {
   "cell_type": "code",
   "execution_count": 3,
   "id": "76cf7a62-bb14-49e9-8cb8-b684899597a0",
   "metadata": {},
   "outputs": [],
   "source": [
    "#waf that generates list of email address using list of sapid\n",
    "#generate email address using sapid\n",
    "#sapid\n",
    "#1234567\n",
    "#email\n",
    "#1234567@stu.upes.ac.in\n",
    "# 1 . function/for loop\n",
    "# 2. map/filter and lambda\n",
    "#  3 . list comprehension"
   ]
  },
  {
   "cell_type": "code",
   "execution_count": 5,
   "id": "6c8f92fc-fbb4-49e2-a868-1b9a8222bb72",
   "metadata": {},
   "outputs": [
    {
     "data": {
      "text/plain": [
       "['123@stu.upes.ac.in', '2345@stu.upes.ac.in', '2546@stu.upes.ac.in']"
      ]
     },
     "execution_count": 5,
     "metadata": {},
     "output_type": "execute_result"
    }
   ],
   "source": [
    "# 1st logic\n",
    "sapids=[123,2345,2546]\n",
    "\n",
    "def id2email(id):\n",
    "    return str(id) + \"@stu.upes.ac.in\"\n",
    "\n",
    "def sapids_to_emails(sapids):\n",
    "    emails = []\n",
    "    for id in sapids:\n",
    "        email = id2email(id)\n",
    "        emails.append(email)\n",
    "\n",
    "    return emails\n",
    "\n",
    "list_of_emails = sapids_to_emails(sapids)\n",
    "list_of_emails"
   ]
  },
  {
   "cell_type": "code",
   "execution_count": 6,
   "id": "cd545b9d-f5b7-42f8-8b0f-f164afa17205",
   "metadata": {},
   "outputs": [
    {
     "data": {
      "text/plain": [
       "<map at 0x28cc1daf040>"
      ]
     },
     "execution_count": 6,
     "metadata": {},
     "output_type": "execute_result"
    }
   ],
   "source": [
    "#2nd logic using map and function  \n",
    "\n",
    "sapidss = [123,1234,12345,123456]\n",
    "\n",
    "def id2email(id):\n",
    "    return str(id) + \"@stu.upes.ac.in\"\n",
    "\n",
    "list_of_emailsss = map(id2email , sapidss)\n",
    "\n",
    "list_of_emailsss"
   ]
  },
  {
   "cell_type": "code",
   "execution_count": 10,
   "id": "af497ab8-0a5c-471d-86a4-397ed4ce9cf3",
   "metadata": {},
   "outputs": [
    {
     "data": {
      "text/plain": [
       "['123@stu.upes.ac.in',\n",
       " '1234@stu.upes.ac.in',\n",
       " '12345@stu.upes.ac.in',\n",
       " '123456@stu.upes.ac.in']"
      ]
     },
     "execution_count": 10,
     "metadata": {},
     "output_type": "execute_result"
    }
   ],
   "source": [
    "#3nd logic using lambda\n",
    "\n",
    "sapidss = [123,1234,12345,123456]\n",
    "\n",
    "# def id2email(id):\n",
    "#     return str(id) + \"@stu.upes.ac.in\"\n",
    "\n",
    "list_of_emailsss = list(map(lambda id :str(id) + \"@stu.upes.ac.in\" , sapidss))\n",
    "\n",
    "list_of_emailsss"
   ]
  },
  {
   "cell_type": "code",
   "execution_count": 14,
   "id": "b71b48ff-c0d2-4c21-8c2b-e3b648701d08",
   "metadata": {},
   "outputs": [
    {
     "data": {
      "text/plain": [
       "[' 123 @stu.upes.ac.in',\n",
       " ' 1234 @stu.upes.ac.in',\n",
       " ' 12345 @stu.upes.ac.in',\n",
       " ' 123456 @stu.upes.ac.in']"
      ]
     },
     "execution_count": 14,
     "metadata": {},
     "output_type": "execute_result"
    }
   ],
   "source": [
    "#4nd logic using list comprehnsion\n",
    "\n",
    "sapidss = [123,1234,12345,123456]\n",
    "\n",
    "list_of_emails = [ f\" { id} @stu.upes.ac.in\" for id in sapidss ]\n",
    "list_of_emails"
   ]
  },
  {
   "cell_type": "code",
   "execution_count": null,
   "id": "44aa1929-8728-4670-b303-28e0c03f2595",
   "metadata": {},
   "outputs": [],
   "source": []
  }
 ],
 "metadata": {
  "kernelspec": {
   "display_name": "Python 3 (ipykernel)",
   "language": "python",
   "name": "python3"
  },
  "language_info": {
   "codemirror_mode": {
    "name": "ipython",
    "version": 3
   },
   "file_extension": ".py",
   "mimetype": "text/x-python",
   "name": "python",
   "nbconvert_exporter": "python",
   "pygments_lexer": "ipython3",
   "version": "3.12.1"
  }
 },
 "nbformat": 4,
 "nbformat_minor": 5
}
