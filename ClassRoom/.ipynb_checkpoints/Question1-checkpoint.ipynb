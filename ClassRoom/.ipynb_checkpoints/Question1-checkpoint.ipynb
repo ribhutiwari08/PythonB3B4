{
 "cells": [
  {
   "cell_type": "markdown",
   "id": "09dea1bc-06e9-48f2-8c7c-0194c20f5750",
   "metadata": {},
   "source": [
    "### Write a program that has two functions ###"
   ]
  },
  {
   "cell_type": "markdown",
   "id": "0d782eef-5a04-418f-8e77-a5a09db56b3b",
   "metadata": {},
   "source": [
    "(i) Write a function that takes input from users and return data entered by user as a list. Your function should ensure the values given by user are integer. You can ask user how many values to enter.\n",
    "\n",
    "(ii) Write a function that takes one input argument, the input argument should a list, this function computes sum, average, minimum, maximum and cummulative sum and return these values. Now use these(Both) functions first to take input from user and second to compute sum, average, minimum, maximum and cummulative sum."
   ]
  },
  {
   "cell_type": "code",
   "execution_count": 1,
   "id": "6a249b9c-9656-4a54-b4a2-a1398bec32b1",
   "metadata": {},
   "outputs": [
    {
     "name": "stdin",
     "output_type": "stream",
     "text": [
      "How many integer values would you like to enter?  3\n",
      "Enter integer value 1:  10\n",
      "Enter integer value 2:  20\n",
      "Enter integer value 3:  30\n"
     ]
    },
    {
     "name": "stdout",
     "output_type": "stream",
     "text": [
      "\n",
      "Statistics:\n",
      "Sum: 60\n",
      "Average: 20.0\n",
      "Minimum: 10\n",
      "Maximum: 30\n",
      "Cumulative Sum: [10, 30, 60]\n"
     ]
    }
   ],
   "source": [
    "def get_user_input():\n",
    "    \"\"\"\n",
    "    Prompts the user to enter a number of integer values and returns them as a list.\n",
    "    \"\"\"\n",
    "    while True:\n",
    "        try:\n",
    "            num_values = int(input(\"How many integer values would you like to enter? \"))\n",
    "            if num_values <= 0:\n",
    "                print(\"Please enter a positive integer.\")\n",
    "                continue\n",
    "            break\n",
    "        except ValueError:\n",
    "            print(\"Invalid input. Please enter an integer.\")\n",
    "    \n",
    "    values = []\n",
    "    for i in range(num_values):\n",
    "        while True:\n",
    "            try:\n",
    "                value = int(input(f\"Enter integer value {i + 1}: \"))\n",
    "                values.append(value)\n",
    "                break\n",
    "            except ValueError:\n",
    "                print(\"Invalid input. Please enter an integer.\")\n",
    "    \n",
    "    return values\n",
    "\n",
    "def compute_statistics(numbers):\n",
    "    \"\"\"\n",
    "    Computes and returns the sum, average, minimum, maximum, and cumulative sum of a list of numbers.\n",
    "    \"\"\"\n",
    "    if not numbers:\n",
    "        return None, None, None, None, None\n",
    "    \n",
    "    total_sum = sum(numbers)\n",
    "    average = total_sum / len(numbers)\n",
    "    minimum = min(numbers)\n",
    "    maximum = max(numbers)\n",
    "    \n",
    "    cumulative_sum = []\n",
    "    running_total = 0\n",
    "    for number in numbers:\n",
    "        running_total += number\n",
    "        cumulative_sum.append(running_total)\n",
    "    \n",
    "    return total_sum, average, minimum, maximum, cumulative_sum\n",
    "\n",
    "# Main program execution\n",
    "if __name__ == \"__main__\":\n",
    "    # Get user input\n",
    "    user_values = get_user_input()\n",
    "    \n",
    "    # Compute statistics\n",
    "    total_sum, average, minimum, maximum, cumulative_sum = compute_statistics(user_values)\n",
    "    \n",
    "    # Display results\n",
    "    print(\"\\nStatistics:\")\n",
    "    print(f\"Sum: {total_sum}\")\n",
    "    print(f\"Average: {average}\")\n",
    "    print(f\"Minimum: {minimum}\")\n",
    "    print(f\"Maximum: {maximum}\")\n",
    "    print(f\"Cumulative Sum: {cumulative_sum}\")"
   ]
  },
  {
   "cell_type": "code",
   "execution_count": null,
   "id": "c40ef8cb-6bef-4153-9e05-a96ecbb8bdbe",
   "metadata": {},
   "outputs": [],
   "source": []
  }
 ],
 "metadata": {
  "kernelspec": {
   "display_name": "Python 3 (ipykernel)",
   "language": "python",
   "name": "python3"
  },
  "language_info": {
   "codemirror_mode": {
    "name": "ipython",
    "version": 3
   },
   "file_extension": ".py",
   "mimetype": "text/x-python",
   "name": "python",
   "nbconvert_exporter": "python",
   "pygments_lexer": "ipython3",
   "version": "3.12.1"
  }
 },
 "nbformat": 4,
 "nbformat_minor": 5
}
