{
 "cells": [
  {
   "cell_type": "markdown",
   "id": "a302a6f4-aae1-4094-8400-ff327b269c6d",
   "metadata": {},
   "source": [
    "***write a program that takes directry address from user and returns the list of file names in that dirctory we can use os module to perform these things***\n"
   ]
  },
  {
   "cell_type": "code",
   "execution_count": 7,
   "id": "6d620c6b-4b98-4325-90e9-d62f9dae0b42",
   "metadata": {},
   "outputs": [
    {
     "name": "stdin",
     "output_type": "stream",
     "text": [
      "Enter location C:\\Users\\Ribhu\\OneDrive\\Desktop\\PythonDemo\\ClassRoom\n"
     ]
    }
   ],
   "source": [
    "import os\n",
    "#help(os)\n",
    "\n",
    "address = input(\"Enter location\")\n",
    "#address = \"C:\\Users\\Ribhu\\OneDrive\\Desktop\\PythonDemo\\ClassRoom\""
   ]
  },
  {
   "cell_type": "code",
   "execution_count": 8,
   "id": "c973a8c8-9edc-4461-8b14-b9b7261ac4fe",
   "metadata": {},
   "outputs": [
    {
     "data": {
      "text/plain": [
       "['.ipynb_checkpoints', '12-09-2024.ipynb', 'Question1.ipynb', 'Unit2.ipynb']"
      ]
     },
     "execution_count": 8,
     "metadata": {},
     "output_type": "execute_result"
    }
   ],
   "source": [
    "os.chdir(address) #chdir is use for change directory \n",
    "\n",
    "list_of_files = os.listdir()  # list files in dir\n",
    "list_of_files"
   ]
  },
  {
   "cell_type": "code",
   "execution_count": 9,
   "id": "2ae8bb52-e362-459d-b3fb-526dcee93eb9",
   "metadata": {},
   "outputs": [
    {
     "name": "stdout",
     "output_type": "stream",
     "text": [
      ".ipynb_checkpoints\n",
      "12-09-2024.ipynb\n",
      "Question1.ipynb\n",
      "Unit2.ipynb\n"
     ]
    }
   ],
   "source": [
    "for k in list_of_files:\n",
    "    print(k)"
   ]
  },
  {
   "cell_type": "markdown",
   "id": "a83a7a0f-c39a-408f-946b-9b84d7a028f5",
   "metadata": {},
   "source": [
    "## Write a function that takes dir address from user and organize file onthat folder in to following categories as given below\n",
    "| Folder | Extesion |\n",
    "|--|--|\n",
    "|videos|mpg,mkv|\n",
    "|Images|jpg,png|\n",
    "|audio|mp3,oog|\n",
    "|Docs|docx,txt,pdf|\n",
    "|Mics|others|"
   ]
  },
  {
   "cell_type": "code",
   "execution_count": 8,
   "id": "dacddd76-0b5b-4ccf-a4c0-113bc437efce",
   "metadata": {},
   "outputs": [
    {
     "name": "stderr",
     "output_type": "stream",
     "text": [
      "<string>:13: SyntaxWarning: invalid escape sequence '\\{'\n",
      "<>:11: SyntaxWarning: invalid escape sequence '\\d'\n",
      "<>:13: SyntaxWarning: invalid escape sequence '\\{'\n",
      "<>:13: SyntaxWarning: invalid escape sequence '\\d'\n",
      "<string>:13: SyntaxWarning: invalid escape sequence '\\{'\n",
      "<>:11: SyntaxWarning: invalid escape sequence '\\d'\n",
      "<>:13: SyntaxWarning: invalid escape sequence '\\{'\n",
      "<>:13: SyntaxWarning: invalid escape sequence '\\d'\n",
      "C:\\Users\\Ribhu\\AppData\\Local\\Temp\\ipykernel_15892\\4167674990.py:11: SyntaxWarning: invalid escape sequence '\\d'\n",
      "  relative_source_file_path = \".\\demo.txt\"\n",
      "C:\\Users\\Ribhu\\AppData\\Local\\Temp\\ipykernel_15892\\4167674990.py:13: SyntaxWarning: invalid escape sequence '\\{'\n",
      "  relative_destination_file_path = f\".\\{dirName}\\demo.txt\"\n",
      "C:\\Users\\Ribhu\\AppData\\Local\\Temp\\ipykernel_15892\\4167674990.py:13: SyntaxWarning: invalid escape sequence '\\d'\n",
      "  relative_destination_file_path = f\".\\{dirName}\\demo.txt\"\n"
     ]
    }
   ],
   "source": [
    "import os\n",
    "\n",
    "dirName = \"Image\"\n",
    "make_dir_cmd = f\"md {dirName}\"\n",
    "os.system(make_dir_cmd)\n",
    "\n",
    "os.mkdir(\"dirName\")\n",
    "\n",
    "#to move files\n",
    "\n",
    "relative_source_file_path = \".\\C:\\Users\\Ribhu\\OneDrive\\Desktop\\PythonDemo\\Organizer\\Organizer\"\n",
    "dirName = \"Images\"\n",
    "relative_destination_file_path = f\".\\{dirName}\\demo.txt\"\n",
    "cmd_to_move_file = f\"move {relative_source_file_path} {relative_destination_file_path}\""
   ]
  },
  {
   "cell_type": "code",
   "execution_count": null,
   "id": "61a4c8ea-7481-4134-aac8-2b5d63035f30",
   "metadata": {},
   "outputs": [],
   "source": []
  }
 ],
 "metadata": {
  "kernelspec": {
   "display_name": "Python 3 (ipykernel)",
   "language": "python",
   "name": "python3"
  },
  "language_info": {
   "codemirror_mode": {
    "name": "ipython",
    "version": 3
   },
   "file_extension": ".py",
   "mimetype": "text/x-python",
   "name": "python",
   "nbconvert_exporter": "python",
   "pygments_lexer": "ipython3",
   "version": "3.12.1"
  }
 },
 "nbformat": 4,
 "nbformat_minor": 5
}
