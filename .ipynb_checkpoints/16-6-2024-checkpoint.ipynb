{
 "cells": [
  {
   "cell_type": "code",
   "execution_count": 9,
   "id": "c89e0817-1753-4c4c-92df-54cb281fd28c",
   "metadata": {},
   "outputs": [],
   "source": [
    "import os \n",
    "address = r\"C:\\Users\\Ribhu\\OneDrive\\Desktop\\PythonDemo\\Organizer\\Organizer\"\n",
    "os.chdir(address)\n",
    "\n",
    "list_of_files = os.listdir()\n",
    "list_of_files\n",
    "dirs_to_create = \"Images , Audio , Videos , Docs ,Misc\".split(\",\")\n",
    "dirs_to_create\n",
    "\n",
    "#try except \n",
    "\n",
    "for dir1 in dirs_to_create:\n",
    "    os.mkdir(dir1)\n",
    "    \n",
    "\n"
   ]
  },
  {
   "cell_type": "code",
   "execution_count": 10,
   "id": "0434defb-233e-40a7-8e1a-c8a4ddf43aff",
   "metadata": {},
   "outputs": [],
   "source": [
    "for f in list_of_files:\n",
    "    ext = f.split(\".\") [-1]\n",
    "    if ext == \"jpg\" or ext == \"png\":\n",
    "        cmd = f\"move ./{f} ./Images/{f}\"\n",
    "        os.system(cmd)"
   ]
  },
  {
   "cell_type": "code",
   "execution_count": null,
   "id": "4ec40949-25bc-4015-b2ca-fed177dfc9f3",
   "metadata": {},
   "outputs": [],
   "source": []
  }
 ],
 "metadata": {
  "kernelspec": {
   "display_name": "Python 3 (ipykernel)",
   "language": "python",
   "name": "python3"
  },
  "language_info": {
   "codemirror_mode": {
    "name": "ipython",
    "version": 3
   },
   "file_extension": ".py",
   "mimetype": "text/x-python",
   "name": "python",
   "nbconvert_exporter": "python",
   "pygments_lexer": "ipython3",
   "version": "3.12.1"
  }
 },
 "nbformat": 4,
 "nbformat_minor": 5
}
