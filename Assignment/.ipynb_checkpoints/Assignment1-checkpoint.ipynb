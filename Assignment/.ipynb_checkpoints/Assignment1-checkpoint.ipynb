{
 "cells": [
  {
   "cell_type": "markdown",
   "id": "9bdcb0a4-b6b6-4d78-9680-3994eb4dc0e3",
   "metadata": {},
   "source": [
    "***ASSIGNMENT 1***"
   ]
  },
  {
   "cell_type": "markdown",
   "id": "cbfeeb5a-6e06-4d62-869b-5cf3e6f41467",
   "metadata": {},
   "source": [
    "***Part 1***"
   ]
  },
  {
   "cell_type": "markdown",
   "id": "02e0487a-a29d-44ed-8098-c8943189394e",
   "metadata": {},
   "source": [
    "*Question 1*"
   ]
  },
  {
   "cell_type": "markdown",
   "id": "cb54f306-177b-4749-b73b-af628e777000",
   "metadata": {},
   "source": [
    "![label3](./picc1.png)"
   ]
  },
  {
   "cell_type": "code",
   "execution_count": 1,
   "id": "52ab6b6f-cec6-4765-be90-ab80aaf5cb9d",
   "metadata": {},
   "outputs": [
    {
     "name": "stdout",
     "output_type": "stream",
     "text": [
      "Ribhu Bhushan Tiwari\n",
      "MCA\n",
      "3.12.1 (tags/v3.12.1:2305ca5, Dec  7 2023, 22:03:25) [MSC v.1937 64 bit (AMD64)]\n"
     ]
    }
   ],
   "source": [
    "import sys\n",
    "name_ = \"Ribhu Bhushan Tiwari\"\n",
    "course_name = \"MCA\"\n",
    "python_version = sys.version\n",
    "print(name_)\n",
    "print(course_name)\n",
    "print(python_version)"
   ]
  },
  {
   "cell_type": "markdown",
   "id": "84cbb3aa-f84d-4c5b-bcaf-b8779105d02c",
   "metadata": {},
   "source": [
    "*Question 2*"
   ]
  },
  {
   "cell_type": "markdown",
   "id": "8f063347-9fd6-4888-a9dd-6472c0f613d9",
   "metadata": {},
   "source": [
    "### Question 1 : Python Installation and Execute \n",
    "![label1](./picc.png)\n"
   ]
  },
  {
   "cell_type": "markdown",
   "id": "940076f0-5f2e-490f-8057-3f41b0ad092a",
   "metadata": {},
   "source": [
    "***Part 2***"
   ]
  },
  {
   "cell_type": "markdown",
   "id": "58f55da8-d0c3-43c1-8f17-26306e92fbad",
   "metadata": {},
   "source": [
    "*Question 1*"
   ]
  },
  {
   "cell_type": "code",
   "execution_count": 15,
   "id": "de87e63a-d52e-4458-b922-5b91990ec165",
   "metadata": {},
   "outputs": [
    {
     "name": "stdin",
     "output_type": "stream",
     "text": [
      "Enter the first name : Ribhu Bhusahn\n",
      "Enter the second name : Tiwari\n"
     ]
    },
    {
     "name": "stdout",
     "output_type": "stream",
     "text": [
      "irawiT nhasuhB uhbiR\n"
     ]
    }
   ],
   "source": [
    "a= input(\"Enter the first name :\")        #in this code we get a input of first name from user and put in a variable a which act like a string variable \n",
    "b= input(\"Enter the second name :\")         #in this section we do same work to take a input of last name from user and put in a variable b a string variable \n",
    "c= a+ \" \" +b                                #in this line we do concatenation of two variable a and b and store the final result in a variable c \n",
    "print(c[: :-1])                              #and in final line we need a reverse output of the name that why we use c variable and pass a parameter in square bracket in which we do a reversing of string -1 measn it print string from lasr element to the first element in the reeverse order"
   ]
  },
  {
   "cell_type": "markdown",
   "id": "e0bfe819-3e60-432f-b280-eaa921c74192",
   "metadata": {},
   "source": [
    "*Question 2*"
   ]
  },
  {
   "cell_type": "code",
   "execution_count": 4,
   "id": "a70a6abb-7b42-40a6-9609-a66af13b075a",
   "metadata": {},
   "outputs": [
    {
     "name": "stdin",
     "output_type": "stream",
     "text": [
      "Enter the number : 45\n",
      "IN WHICH DATATYPE YOU WANT TO CONVERT FOR INT TYPE int FOR FLOAT TYPE flt FOR COMPLEX TYPE cmp  flt\n"
     ]
    },
    {
     "name": "stdout",
     "output_type": "stream",
     "text": [
      "The Float Value is 45.0\n"
     ]
    }
   ],
   "source": [
    "#In this code we take a input from user of number and store in the int variable a and then convert in other datatype\n",
    "\n",
    "a = (input(\"Enter the number :\"))                  #taking a integer input from user and store in varaible a \n",
    "b =  input(\"IN WHICH DATATYPE YOU WANT TO CONVERT FOR INT TYPE int FOR FLOAT TYPE flt FOR COMPLEX TYPE cmp \") #Then ask to user in thich dataype he/she want to conver if they want interger type int otherwise for float type flt or if they want complex then type cmp\n",
    "if b=='int':                                         #if user type int then this parst of code execute that why we use if elif statement in this part\n",
    "    d = int(a)                                         #and then we use type casting and convert the user input to integer and store in a new variable d\n",
    "    print(\"The Interger Value is\" , d)                  #and then print d \n",
    "elif b=='flt':                                          #in case user type flt then this part of code is executed\n",
    "    d = float(a)                                         #and same data casting work here also and convert user input into float \n",
    "    print(\"The Float Value is\" , d)                      #and print d \n",
    "elif b=='cmp' :                                          #if user tye cmp then this part of code execute that why we use elif in both 2nd and 3rd line \n",
    "    d=complex(a)                                           #in this user input is converted into complex number \n",
    "    print(\"The Complex Value is \" ,d)    #then print d \n",
    "else:\n",
    "    print(\"Wrong Input\")\n",
    "    \n",
    "    "
   ]
  },
  {
   "cell_type": "markdown",
   "id": "b60ad44a-9c12-46c8-98e1-185655b53d4c",
   "metadata": {},
   "source": [
    "*Question 3*"
   ]
  },
  {
   "cell_type": "code",
   "execution_count": 5,
   "id": "8a3d94bc-4ff7-48f2-98d1-4cbb91d9128b",
   "metadata": {},
   "outputs": [
    {
     "name": "stdin",
     "output_type": "stream",
     "text": [
      "Enter the length of the rectangle 50\n",
      "Enter the breadth of the rectangle  10\n"
     ]
    },
    {
     "name": "stdout",
     "output_type": "stream",
     "text": [
      "The Area of Rectangle is  500\n"
     ]
    }
   ],
   "source": [
    "#In this code we take user input of length and breadth and the calculate the area of rectangle and then print it\n",
    "length_ = int(input(\"Enter the length of the rectangle\"))                       #in this line we take a integer input from user and store in the lenth_ variable \n",
    "breadth_ = int (input(\"Enter the breadth of the rectangle \"))                    #in this line we also take a integer input from user and store in the variable breadth_\n",
    "final_area = length_* breadth_                                                   # we take another variable of final_area in which the value of lenth_ and breadth_ is multiplied because for area of rectangle we should multiply length and breadth \n",
    "print(\"The Area of Rectangle is \" , final_area)                                  #then we use print command and print the final output "
   ]
  },
  {
   "cell_type": "markdown",
   "id": "4d3ad593-634a-45db-ab8c-a23f7f6ad01c",
   "metadata": {},
   "source": [
    "*Question 4*"
   ]
  },
  {
   "cell_type": "code",
   "execution_count": 6,
   "id": "dc0e8fa4-4264-46ee-83c0-08303e3fe134",
   "metadata": {},
   "outputs": [
    {
     "name": "stdout",
     "output_type": "stream",
     "text": [
      "The area of the rectangle is: 500.00\n"
     ]
    }
   ],
   "source": [
    "\n",
    "#Using format function calculate the area of rectangle from the above function \n",
    "print(f\"The area of the rectangle is: {final_area:.2f}\")                        #we take the same upper function just use the print commant to print the area in 2 decimal position using format function "
   ]
  },
  {
   "cell_type": "markdown",
   "id": "e2e61ed5-f4ba-4c51-9ae5-893b92804043",
   "metadata": {},
   "source": [
    "*Question 5*"
   ]
  },
  {
   "cell_type": "code",
   "execution_count": 7,
   "id": "0388fcee-2b55-447a-ac1d-44b92fec0166",
   "metadata": {},
   "outputs": [
    {
     "name": "stdin",
     "output_type": "stream",
     "text": [
      "Enter the first number:  10\n",
      "Enter the second number:  20\n",
      "Enter the third number:  30\n"
     ]
    },
    {
     "name": "stdout",
     "output_type": "stream",
     "text": [
      "The average of the three numbers is: 20.00\n"
     ]
    }
   ],
   "source": [
    "\n",
    "# Input three numbers from the user\n",
    "num1 = float(input(\"Enter the first number: \"))     #in this code firstly we make a float variable name as num1\n",
    "num2 = float(input(\"Enter the second number: \"))    #in this code  we make a float variable name as num2\n",
    "num3 = float(input(\"Enter the third number: \"))     #in this code  we make a float variable name as num3\n",
    "\n",
    "# Calculate the average\n",
    "average = (num1 + num2 + num3) / 3                   #in this code firstly we add num1 , num 2 and num 3 variable and then divide the sum with 3 for getting average and store average in the variable average .\n",
    "\n",
    "# Print the average using the % method for string formatting\n",
    "print(\"The average of the three numbers is: %.2f\" % average)   #and then using print command print average "
   ]
  },
  {
   "cell_type": "markdown",
   "id": "2536381e-bc43-437f-8779-a6f708e51c10",
   "metadata": {},
   "source": [
    "**Part 3**"
   ]
  },
  {
   "cell_type": "markdown",
   "id": "82ff2fe4-ba77-4e30-b838-e9f1190f47e5",
   "metadata": {},
   "source": [
    "*Question 1*"
   ]
  },
  {
   "cell_type": "code",
   "execution_count": 8,
   "id": "2847cf11-e538-4095-b72f-f012e3349f4d",
   "metadata": {},
   "outputs": [
    {
     "name": "stdin",
     "output_type": "stream",
     "text": [
      "Enter a number (or type 'exit' to quit):  50\n"
     ]
    },
    {
     "name": "stdout",
     "output_type": "stream",
     "text": [
      "The number is positive.\n"
     ]
    },
    {
     "name": "stdin",
     "output_type": "stream",
     "text": [
      "Enter a number (or type 'exit' to quit):  -6\n"
     ]
    },
    {
     "name": "stdout",
     "output_type": "stream",
     "text": [
      "The number is negative.\n"
     ]
    },
    {
     "name": "stdin",
     "output_type": "stream",
     "text": [
      "Enter a number (or type 'exit' to quit):  0\n"
     ]
    },
    {
     "name": "stdout",
     "output_type": "stream",
     "text": [
      "The number is zero.\n"
     ]
    },
    {
     "name": "stdin",
     "output_type": "stream",
     "text": [
      "Enter a number (or type 'exit' to quit):  exit\n"
     ]
    },
    {
     "name": "stdout",
     "output_type": "stream",
     "text": [
      "Exiting the program. Goodbye!\n"
     ]
    }
   ],
   "source": [
    "\n",
    "\n",
    "while True:\n",
    "    # Ask the user for input\n",
    "    user_input = input(\"Enter a number (or type 'exit' to quit): \")\n",
    "    \n",
    "    # Check if the user wants to exit\n",
    "    if user_input.lower() == 'exit':\n",
    "        print(\"Exiting the program. Goodbye!\")\n",
    "        break\n",
    "    \n",
    "    else:\n",
    "        # Convert input to a float and determine if it is positive, negative, or zero\n",
    "        number = float(user_input)\n",
    "        \n",
    "        if number > 0:\n",
    "            print(\"The number is positive.\")\n",
    "        elif number < 0:\n",
    "            print(\"The number is negative.\")\n",
    "        else:\n",
    "            print(\"The number is zero.\")\n",
    "    \n",
    "    "
   ]
  },
  {
   "cell_type": "markdown",
   "id": "8308485f-3836-4fc5-8375-f65b27a31f99",
   "metadata": {},
   "source": [
    "*Question 2*"
   ]
  },
  {
   "cell_type": "code",
   "execution_count": 11,
   "id": "f83830f4-73eb-4390-b152-fbd6a12d7186",
   "metadata": {},
   "outputs": [
    {
     "name": "stdin",
     "output_type": "stream",
     "text": [
      "Enter the first number:  2\n",
      "Enter the second number:  5\n"
     ]
    },
    {
     "name": "stdout",
     "output_type": "stream",
     "text": [
      "One number is even and the other is odd.\n"
     ]
    }
   ],
   "source": [
    "\n",
    "\n",
    "# Input two numbers from the user\n",
    "first_number = int(input(\"Enter the first number: \"))\n",
    "second_number = int(input(\"Enter the second number: \"))\n",
    "\n",
    "# Check whether both numbers are even, odd, or one of each using relational and logical operator\n",
    "if first_number % 2 == 0 and second_number % 2 == 0:\n",
    "    print(\"Both numbers are even.\")\n",
    "elif first_number % 2 != 0 and second_number % 2 != 0:\n",
    "    print(\"Both numbers are odd.\")\n",
    "else:\n",
    "    print(\"One number is even and the other is odd.\")\n"
   ]
  },
  {
   "cell_type": "markdown",
   "id": "7dbee28c-1646-429f-814b-9c3b564621cc",
   "metadata": {},
   "source": [
    "*Question 3*"
   ]
  },
  {
   "cell_type": "code",
   "execution_count": 12,
   "id": "8f9f858e-84e0-4bd2-928b-080f7cfbe232",
   "metadata": {},
   "outputs": [
    {
     "name": "stdin",
     "output_type": "stream",
     "text": [
      "Enter an integer:  10\n"
     ]
    },
    {
     "name": "stdout",
     "output_type": "stream",
     "text": [
      "Binary: 1010\n",
      "Octal: 12\n",
      "Hexadecimal: 1\n"
     ]
    }
   ],
   "source": [
    "\n",
    "\n",
    "\n",
    "# Function to convert a number to binary, octal, and hexadecimal using bitwise operations\n",
    "def convert_number(num):\n",
    "    # Binary conversion\n",
    "    binary = ''\n",
    "    for i in range(num.bit_length(), -1, -1):\n",
    "        binary += '1' if (num >> i) & 1 else '0'\n",
    "    binary = binary.lstrip('0') or '0'  # Remove leading zeros\n",
    "\n",
    "    # Octal conversion\n",
    "    octal = ''\n",
    "    for i in range(num.bit_length() - 1, -1, -3):  # Group by 3 bits for octal\n",
    "        octal_digit = (num >> i) & 7  # Extract 3 bits at a time\n",
    "        octal += str(octal_digit)\n",
    "    octal = octal.lstrip('0') or '0'  # Remove leading zeros\n",
    "\n",
    "    # Hexadecimal conversion\n",
    "    hex_digits = \"0123456789ABCDEF\"\n",
    "    hexadecimal = ''\n",
    "    for i in range(num.bit_length() - 1, -1, -4):  # Group by 4 bits for hexadecimal\n",
    "        hex_digit = (num >> i) & 15  # Extract 4 bits at a time\n",
    "        hexadecimal += hex_digits[hex_digit]\n",
    "    hexadecimal = hexadecimal.lstrip('0') or '0'  # Remove leading zeros\n",
    "\n",
    "    print(f\"Binary: {binary}\")\n",
    "    print(f\"Octal: {octal}\")\n",
    "    print(f\"Hexadecimal: {hexadecimal}\")\n",
    "\n",
    "# Take integer input from the user\n",
    "number = int(input(\"Enter an integer: \"))\n",
    "convert_number(number)\n"
   ]
  }
 ],
 "metadata": {
  "kernelspec": {
   "display_name": "Python 3 (ipykernel)",
   "language": "python",
   "name": "python3"
  },
  "language_info": {
   "codemirror_mode": {
    "name": "ipython",
    "version": 3
   },
   "file_extension": ".py",
   "mimetype": "text/x-python",
   "name": "python",
   "nbconvert_exporter": "python",
   "pygments_lexer": "ipython3",
   "version": "3.12.1"
  }
 },
 "nbformat": 4,
 "nbformat_minor": 5
}
