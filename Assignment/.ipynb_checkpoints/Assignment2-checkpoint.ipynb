{
 "cells": [
  {
   "cell_type": "markdown",
   "id": "07aded82-53c5-4207-9a33-90e98bbdd9fb",
   "metadata": {},
   "source": [
    "### Assignment 2 ###"
   ]
  },
  {
   "cell_type": "markdown",
   "id": "306eb888-de7c-449a-babe-079cb008e8b8",
   "metadata": {},
   "source": [
    "***Basic Function Implementation***"
   ]
  },
  {
   "cell_type": "code",
   "execution_count": 2,
   "id": "8aab5b3f-1be9-4ea1-91b2-d3daefb7c4f8",
   "metadata": {},
   "outputs": [
    {
     "name": "stdout",
     "output_type": "stream",
     "text": [
      "hello , Ribhu Bhushan Tiwari!\n"
     ]
    }
   ],
   "source": [
    "def greet(name: str , greeting: str = \"hello\"):\n",
    "    return f\"{greeting} , {name}!\"\n",
    "\n",
    "print(greet(\"Ribhu Bhushan Tiwari\"))\n"
   ]
  },
  {
   "cell_type": "markdown",
   "id": "a20305a1-8aaf-4ed9-99c5-df9be73e25d3",
   "metadata": {},
   "source": [
    "**Named Arguments**"
   ]
  },
  {
   "cell_type": "code",
   "execution_count": 4,
   "id": "6d2e77a6-6946-43aa-8a01-9226d54ab5c6",
   "metadata": {},
   "outputs": [
    {
     "name": "stdout",
     "output_type": "stream",
     "text": [
      "Name: Ribhu Bhushan Tiwari, Age: 23, City: Dehradun\n"
     ]
    }
   ],
   "source": [
    "def create_profile(name: str , age: int=23 , city: str = \"\"):\n",
    "                   return f\"Name: {name}, Age: {age}, City: {city}\"\n",
    "\n",
    "print(create_profile(name=\"Ribhu Bhushan Tiwari\" , age=23 , city = \"Dehradun\"))"
   ]
  },
  {
   "cell_type": "markdown",
   "id": "1e78493f-ed0a-48e5-b37f-b471954104db",
   "metadata": {},
   "source": [
    "***Using ****args and kwargs:***"
   ]
  },
  {
   "cell_type": "code",
   "execution_count": 6,
   "id": "24d3a99f-c2ea-4da7-afc1-51d533616d94",
   "metadata": {},
   "outputs": [
    {
     "name": "stdout",
     "output_type": "stream",
     "text": [
      "(16, {'name': 'Ribhu Bhushan Tiwari', 'age': 23})\n"
     ]
    }
   ],
   "source": [
    "def sum_numbers(*args , **kwargs):\n",
    "    total_sum = sum(arg for arg in args if isinstance(arg, (int, float)))\n",
    "    return total_sum , kwargs\n",
    "\n",
    "print(sum_numbers(4,5,7, name=\"Ribhu Bhushan Tiwari\", age=23))"
   ]
  },
  {
   "cell_type": "markdown",
   "id": "fd0ae845-eee1-4636-8b60-b06d2ae827af",
   "metadata": {},
   "source": [
    "***Lambdas and Map***"
   ]
  },
  {
   "cell_type": "code",
   "execution_count": 8,
   "id": "9064c54e-27ad-46f8-b9b9-ffc564179695",
   "metadata": {},
   "outputs": [
    {
     "name": "stdout",
     "output_type": "stream",
     "text": [
      "[121, 529, 1156, 2025]\n"
     ]
    }
   ],
   "source": [
    "def square_elements(numbers):\n",
    "    return list(map(lambda x: x**2, numbers))\n",
    "\n",
    "print(square_elements([11, 23, 34, 45]))"
   ]
  },
  {
   "cell_type": "markdown",
   "id": "d79029a1-7c61-4510-a47e-e3cc9e6d8175",
   "metadata": {},
   "source": [
    "***Filter and Lambdas***"
   ]
  },
  {
   "cell_type": "code",
   "execution_count": 9,
   "id": "9ba26a2d-b3c3-49f4-a13a-0c92d470fc7a",
   "metadata": {},
   "outputs": [
    {
     "name": "stdout",
     "output_type": "stream",
     "text": [
      "[2, 4, 6]\n"
     ]
    }
   ],
   "source": [
    "def filter_odd_numbers(num_list):\n",
    "    return list(filter(lambda x: x% 2==0 , num_list))\n",
    "\n",
    "numbers = [2,3,4,5,6]\n",
    "print(filter_odd_numbers(numbers))"
   ]
  },
  {
   "cell_type": "markdown",
   "id": "d97d8b61-2c29-4505-bb6a-14dd64155495",
   "metadata": {},
   "source": [
    "***Basic List Compreshension***"
   ]
  },
  {
   "cell_type": "code",
   "execution_count": 12,
   "id": "0927181b-d0f4-4098-bb13-0057d37898a4",
   "metadata": {},
   "outputs": [
    {
     "name": "stdout",
     "output_type": "stream",
     "text": [
      "[16, 25, 36, 49, 64]\n"
     ]
    }
   ],
   "source": [
    "number = [4,5,6,7,8]\n",
    "squared_numbers = [number ** 2 for number in numbers]\n",
    "print(squared_numbers)"
   ]
  },
  {
   "cell_type": "markdown",
   "id": "0dc5cd0d-0854-48cf-bd99-6ec280d58610",
   "metadata": {},
   "source": [
    "***List Comprehension with Condition***"
   ]
  },
  {
   "cell_type": "code",
   "execution_count": 1,
   "id": "8f8ab361-9c05-4b06-958d-499f59935795",
   "metadata": {},
   "outputs": [
    {
     "name": "stdout",
     "output_type": "stream",
     "text": [
      "[2, 4, 6, 8, 10, 12, 14, 16, 18, 20]\n"
     ]
    }
   ],
   "source": [
    "even_ = [number for number in range(1, 21) if number % 2 == 0]\n",
    "print(even_)\n"
   ]
  },
  {
   "cell_type": "markdown",
   "id": "eb64a183-405f-4bfa-ad7e-7f390b5ef735",
   "metadata": {},
   "source": [
    "***"
   ]
  }
 ],
 "metadata": {
  "kernelspec": {
   "display_name": "Python 3 (ipykernel)",
   "language": "python",
   "name": "python3"
  },
  "language_info": {
   "codemirror_mode": {
    "name": "ipython",
    "version": 3
   },
   "file_extension": ".py",
   "mimetype": "text/x-python",
   "name": "python",
   "nbconvert_exporter": "python",
   "pygments_lexer": "ipython3",
   "version": "3.12.1"
  }
 },
 "nbformat": 4,
 "nbformat_minor": 5
}
