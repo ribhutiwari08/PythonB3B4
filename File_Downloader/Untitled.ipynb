{
 "cells": [
  {
   "cell_type": "markdown",
   "id": "0a3dc439-58c3-4219-a070-68866b3e4e3d",
   "metadata": {},
   "source": [
    "***Write a program to save a apython list into a file\n",
    "And read that same file a recover original list***"
   ]
  },
  {
   "cell_type": "code",
   "execution_count": 2,
   "id": "cb59fcb4-9917-40c5-a952-9fc8430f6449",
   "metadata": {},
   "outputs": [
    {
     "name": "stdin",
     "output_type": "stream",
     "text": [
      "Enter the Number 10\n"
     ]
    },
    {
     "name": "stdout",
     "output_type": "stream",
     "text": [
      "Original List: 10\n",
      "Recovered List: 10\n"
     ]
    }
   ],
   "source": [
    "import pickle\n",
    "\n",
    "\n",
    "def save_list_to_file(my_list, filename):\n",
    "    with open(filename, 'wb') as file:  \n",
    "        pickle.dump(my_list, file)  \n",
    "\n",
    "\n",
    "def read_list_from_file(filename):\n",
    "    with open(filename, 'rb') as file:  \n",
    "        return pickle.load(file)  \n",
    "\n",
    "\n",
    "my_list = input(\"Enter the Number\")\n",
    "filename = 'my_list.pkl'  \n",
    "\n",
    "\n",
    "save_list_to_file(my_list, filename)\n",
    "\n",
    "\n",
    "recovered_list = read_list_from_file(filename)\n",
    "\n",
    "\n",
    "print(\"Original List:\", my_list)\n",
    "print(\"Recovered List:\", recovered_list)\n"
   ]
  },
  {
   "cell_type": "code",
   "execution_count": null,
   "id": "a6157c33-45b3-4dd4-a192-1c6f24b8a763",
   "metadata": {},
   "outputs": [],
   "source": []
  }
 ],
 "metadata": {
  "kernelspec": {
   "display_name": "Python 3 (ipykernel)",
   "language": "python",
   "name": "python3"
  },
  "language_info": {
   "codemirror_mode": {
    "name": "ipython",
    "version": 3
   },
   "file_extension": ".py",
   "mimetype": "text/x-python",
   "name": "python",
   "nbconvert_exporter": "python",
   "pygments_lexer": "ipython3",
   "version": "3.12.1"
  }
 },
 "nbformat": 4,
 "nbformat_minor": 5
}
